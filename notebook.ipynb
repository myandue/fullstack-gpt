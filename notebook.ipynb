{
 "cells": [
  {
   "cell_type": "code",
   "execution_count": null,
   "id": "344f7c2f",
   "metadata": {},
   "outputs": [],
   "source": [
    "import subprocess\n",
    "\n",
    "\n",
    "def convert_video_to_audio(video_path):\n",
    "    audio_path = video_path.replace(\".mp4\", \".mp3\")\n",
    "\n",
    "    command = [\"ffmpeg\", \"-i\", video_path, \"-vn\", audio_path]\n",
    "\n",
    "    subprocess.run(command)\n",
    "\n",
    "\n",
    "convert_video_to_audio(\"./files/overwatch.mp4\")"
   ]
  },
  {
   "cell_type": "code",
   "execution_count": null,
   "id": "3ae4627f",
   "metadata": {},
   "outputs": [],
   "source": [
    "from pydub import AudioSegment\n",
    "import math\n",
    "\n",
    "\n",
    "def split_audio(audio_path, segment_size):\n",
    "    audio = AudioSegment.from_file(audio_path)\n",
    "    segment_count = math.ceil(len(audio) / (segment_size * 1000))\n",
    "\n",
    "    for i in range(segment_count):\n",
    "        start_time = i * segment_size * 1000\n",
    "        end_time = start_time + (segment_size * 1000)\n",
    "        segment = audio[start_time:end_time]\n",
    "        segment.export(\n",
    "            f\"./files/segments/overwatch_segment_{i}.mp3\", format=\"mp3\"\n",
    "        )\n",
    "\n",
    "\n",
    "split_audio(\"./files/overwatch.mp3\", 30)"
   ]
  },
  {
   "cell_type": "code",
   "execution_count": null,
   "id": "28e76ffe",
   "metadata": {},
   "outputs": [],
   "source": [
    "import glob\n",
    "from openai import OpenAI\n",
    "\n",
    "client = OpenAI()\n",
    "\n",
    "\n",
    "def transcribe_audio_files(segments_folder, destination):\n",
    "    audio_files = glob.glob(f\"{segments_folder}/*.mp3\")\n",
    "    audio_files.sort()\n",
    "\n",
    "    for audio_file in audio_files:\n",
    "        with open(audio_file, \"rb\") as audio_file, open(\n",
    "            destination, \"a\"\n",
    "        ) as text_file:\n",
    "            transcription = client.audio.transcriptions.create(\n",
    "                model=\"gpt-4o-transcribe\",\n",
    "                file=audio_file,\n",
    "                response_format=\"text\",\n",
    "            )\n",
    "            text_file.write(transcription + \" \")\n",
    "\n",
    "\n",
    "transcribe_audio_files(\"./files/segments\", \"./files/transcriptions.txt\")"
   ]
  },
  {
   "cell_type": "code",
   "execution_count": null,
   "id": "fb242fab",
   "metadata": {},
   "outputs": [],
   "source": [
    "from langchain_openai.chat_models import ChatOpenAI\n",
    "from langchain.prompts import PromptTemplate\n",
    "\n",
    "llm = ChatOpenAI(\n",
    "    temperature=0.1,\n",
    ")\n",
    "\n",
    "prompt = PromptTemplate.from_template(\"What languages are used in this model?\")\n",
    "\n",
    "response = llm.predict(\"Can't you use Korean?\")\n",
    "\n",
    "print(response)"
   ]
  },
  {
   "cell_type": "code",
   "execution_count": null,
   "id": "f2e3f476",
   "metadata": {},
   "outputs": [
    {
     "name": "stderr",
     "output_type": "stream",
     "text": [
      "2025-07-22 19:46:18.197 WARNING streamlit.runtime.scriptrunner_utils.script_run_context: Thread 'MainThread': missing ScriptRunContext! This warning can be ignored when running in bare mode.\n",
      "2025-07-22 19:46:18.199 WARNING streamlit.runtime.scriptrunner_utils.script_run_context: Thread 'MainThread': missing ScriptRunContext! This warning can be ignored when running in bare mode.\n",
      "2025-07-22 19:46:18.201 WARNING streamlit.runtime.scriptrunner_utils.script_run_context: Thread 'MainThread': missing ScriptRunContext! This warning can be ignored when running in bare mode.\n",
      "2025-07-22 19:46:18.201 WARNING streamlit.runtime.scriptrunner_utils.script_run_context: Thread 'MainThread': missing ScriptRunContext! This warning can be ignored when running in bare mode.\n"
     ]
    },
    {
     "name": "stdout",
     "output_type": "stream",
     "text": [
      "[]\n"
     ]
    }
   ],
   "source": [
    "from utils.chatbot_session import ChatBotSession\n",
    "from utils.chat_callback_handler import ChatCallbackHandler\n",
    "from langchain.memory import ConversationBufferMemory\n",
    "\n",
    "chatbot_session = ChatBotSession(\"document\")\n",
    "chat_handler = ChatCallbackHandler(chatbot_session)\n",
    "\n",
    "chatbot_session.set_memory(\n",
    "    ConversationBufferMemory(return_messages=True, memory_key=\"history\")\n",
    ")\n",
    "\n",
    "print(chatbot_session.load_memory(_))"
   ]
  }
 ],
 "metadata": {
  "kernelspec": {
   "display_name": "env",
   "language": "python",
   "name": "python3"
  },
  "language_info": {
   "codemirror_mode": {
    "name": "ipython",
    "version": 3
   },
   "file_extension": ".py",
   "mimetype": "text/x-python",
   "name": "python",
   "nbconvert_exporter": "python",
   "pygments_lexer": "ipython3",
   "version": "3.11.6"
  }
 },
 "nbformat": 4,
 "nbformat_minor": 5
}
