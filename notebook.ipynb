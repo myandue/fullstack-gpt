{
 "cells": [
  {
   "cell_type": "code",
   "execution_count": 1,
   "id": "84a4a3f0",
   "metadata": {},
   "outputs": [
    {
     "name": "stdout",
     "output_type": "stream",
     "text": [
      "\n",
      "    Directors: Chris Buck, Jennifer Lee\n",
      "    Main Cast: Kristen Bell, Idina Menzel, Jonathan Groff, Josh Gad\n",
      "    Budget: Approx. $150 million\n",
      "    Box Office Revenue: Approx. $1.28 billion\n",
      "    Genre: Animated, Musical, Fantasy\n",
      "    Small synopsis of the movie: Two royal sisters, Elsa and Anna, must navigate their kingdom's icy powers and uncover the truth about Elsa's abilities to save their kingdom from eternal winter."
     ]
    },
    {
     "data": {
      "text/plain": [
       "AIMessageChunk(content=\"\\n    Directors: Chris Buck, Jennifer Lee\\n    Main Cast: Kristen Bell, Idina Menzel, Jonathan Groff, Josh Gad\\n    Budget: Approx. $150 million\\n    Box Office Revenue: Approx. $1.28 billion\\n    Genre: Animated, Musical, Fantasy\\n    Small synopsis of the movie: Two royal sisters, Elsa and Anna, must navigate their kingdom's icy powers and uncover the truth about Elsa's abilities to save their kingdom from eternal winter.\")"
      ]
     },
     "execution_count": 1,
     "metadata": {},
     "output_type": "execute_result"
    }
   ],
   "source": [
    "from langchain.prompts import ChatPromptTemplate\n",
    "from langchain.chat_models import ChatOpenAI\n",
    "from langchain.callbacks import StreamingStdOutCallbackHandler\n",
    "from langchain.prompts.few_shot import FewShotChatMessagePromptTemplate\n",
    "\n",
    "chat = ChatOpenAI(\n",
    "    temperature=0.1,\n",
    "    streaming=True,\n",
    "    callbacks=[StreamingStdOutCallbackHandler()],\n",
    ")\n",
    "\n",
    "examples = [\n",
    "    {\n",
    "        \"movie\": \"Parasite\",\n",
    "        \"answer\": (\n",
    "            \"\"\"\n",
    "    Director: Bong Joon-ho\n",
    "    Main Cast: Song Kang-ho, Lee Sun-kyun, Cho Yeo-jeong, Choi Woo-shik, Park So-dam\n",
    "    Budget: Approx. $11 million\n",
    "    Box Office Revenue: Approx. $266 million\n",
    "    Genre: Drama, Thriller, Black Comedy\n",
    "    Small synopsis of the movie: A poor family schemes to become employed by a wealthy family, leading to an unexpected series of events that reveal class disparities\n",
    "\"\"\"\n",
    "        ),\n",
    "    },\n",
    "    {\n",
    "        \"movie\": \"Inception\",\n",
    "        \"answer\": (\n",
    "            \"\"\"\n",
    "    Director: Christopher Nolan\n",
    "    Main Cast: Leonardo DiCaprio, Joseph Gordon-Levitt, Ellen Page, Tom Hardy, Ken Watanabe\n",
    "    Budget: Approx. $160 million\n",
    "    Box Office Revenue: Approx. $836 million\n",
    "    Genre: Science Fiction, Action, Thriller\n",
    "    Small synopsis of the movie: A skilled thief who steals secrets from within the subconscious is given a chance to have his criminal history erased if he can implant an idea into a target's mind.\n",
    "\"\"\"\n",
    "        ),\n",
    "    },\n",
    "    {\n",
    "        \"movie\": \"La La Land\",\n",
    "        \"answer\": (\n",
    "            \"\"\"\n",
    "    Director: Damien Chazelle\n",
    "    Main Cast: Ryan Gosling, Emma Stone, John Legend, Rosemarie DeWitt\n",
    "    Budget: Approx. $30 million\n",
    "    Box Office Revenue: Approx. $446 million\n",
    "    Genre: Musical, Romance, Drama\n",
    "    Small synopsis of the movie: A jazz musician and an aspiring actress fall in love while pursuing their dreams in Los Angeles, facing challenges that test their relationship.\n",
    "\"\"\"\n",
    "        ),\n",
    "    },\n",
    "]\n",
    "\n",
    "example_template = ChatPromptTemplate.from_messages(\n",
    "    [(\"human\", \"What do you know about {movie}?\"), (\"ai\", \"{answer}\")]\n",
    ")\n",
    "\n",
    "example_prompt = FewShotChatMessagePromptTemplate(\n",
    "    example_prompt=example_template,\n",
    "    examples=examples,\n",
    ")\n",
    "\n",
    "final_prompt = ChatPromptTemplate.from_messages(\n",
    "    [example_prompt, (\"human\", \"What do you know about {movie}?\")]\n",
    ")\n",
    "\n",
    "chain = final_prompt | chat\n",
    "\n",
    "chain.invoke({\"movie\": \"Frozen\"})"
   ]
  }
 ],
 "metadata": {
  "kernelspec": {
   "display_name": "env",
   "language": "python",
   "name": "python3"
  },
  "language_info": {
   "codemirror_mode": {
    "name": "ipython",
    "version": 3
   },
   "file_extension": ".py",
   "mimetype": "text/x-python",
   "name": "python",
   "nbconvert_exporter": "python",
   "pygments_lexer": "ipython3",
   "version": "3.11.6"
  }
 },
 "nbformat": 4,
 "nbformat_minor": 5
}
