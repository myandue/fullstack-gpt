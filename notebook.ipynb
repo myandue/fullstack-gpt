{
 "cells": [
  {
   "cell_type": "code",
   "execution_count": 3,
   "id": "84a4a3f0",
   "metadata": {},
   "outputs": [],
   "source": [
    "from langchain.prompts import ChatPromptTemplate\n",
    "from langchain.chat_models import ChatOpenAI\n",
    "from langchain.callbacks import StreamingStdOutCallbackHandler\n",
    "\n",
    "chat = ChatOpenAI(\n",
    "    temperature=0.1,\n",
    "    streaming=True,\n",
    "    callbacks=[StreamingStdOutCallbackHandler()],\n",
    ")\n",
    "\n",
    "poem_prompt = ChatPromptTemplate.from_messages(\n",
    "    [\n",
    "        (\n",
    "            \"system\",\n",
    "            \"You are a poet who write poetry about programming languages.\",\n",
    "        ),\n",
    "        (\"human\", \"I want a poet about {programming_language}.\"),\n",
    "    ]\n",
    ")\n",
    "\n",
    "poem_chain = poem_prompt | chat"
   ]
  },
  {
   "cell_type": "code",
   "execution_count": 5,
   "id": "71766bea",
   "metadata": {},
   "outputs": [
    {
     "name": "stdout",
     "output_type": "stream",
     "text": [
      "In the land of code, where serpents slither,\n",
      "There lies a language, elegant and clever.\n",
      "Python, the snake that charms with grace,\n",
      "Guiding programmers in a seamless embrace.\n",
      "\n",
      "Its syntax clean, like a river's flow,\n",
      "Indentation matters, as all coders know.\n",
      "With libraries vast, like stars in the sky,\n",
      "Python shines bright, never asking why.\n",
      "\n",
      "From web development to data science's art,\n",
      "Python weaves its magic, touching every part.\n",
      "A language beloved by beginners and pros,\n",
      "In the world of coding, Python truly glows.\n",
      "\n",
      "So raise your glass to this language divine,\n",
      "Python, the serpent that continues to shine.\n",
      "In the realm of programming, it reigns supreme,\n",
      "A poet's muse, a coder's dream.This poem beautifully captures the essence of Python programming language. It describes Python as a charming and elegant language that guides programmers with grace and ease. The poem highlights Python's clean syntax, the importance of indentation, and the vast libraries available for developers to use. It also mentions the versatility of Python in various fields such as web development and data science, making it a favorite among both beginners and experienced programmers. The poem concludes by praising Python as a shining star in the world of coding, a language that continues to reign supreme and inspire both poets and coders alike."
     ]
    },
    {
     "data": {
      "text/plain": [
       "AIMessageChunk(content=\"This poem beautifully captures the essence of Python programming language. It describes Python as a charming and elegant language that guides programmers with grace and ease. The poem highlights Python's clean syntax, the importance of indentation, and the vast libraries available for developers to use. It also mentions the versatility of Python in various fields such as web development and data science, making it a favorite among both beginners and experienced programmers. The poem concludes by praising Python as a shining star in the world of coding, a language that continues to reign supreme and inspire both poets and coders alike.\")"
      ]
     },
     "execution_count": 5,
     "metadata": {},
     "output_type": "execute_result"
    }
   ],
   "source": [
    "description_prompt = ChatPromptTemplate.from_messages(\n",
    "    [\n",
    "        (\n",
    "            \"system\",\n",
    "            (\n",
    "                \"You are a descriptor about poetry. If you got a poem, then\"\n",
    "                \" you explain it.\"\n",
    "            ),\n",
    "        ),\n",
    "        (\"human\", \"{poem}\"),\n",
    "    ]\n",
    ")\n",
    "\n",
    "description_chain = description_prompt | chat\n",
    "\n",
    "final_chain = {\"poem\": poem_chain} | description_chain\n",
    "\n",
    "final_chain.invoke({\"programming_language\": \"Python\"})"
   ]
  }
 ],
 "metadata": {
  "kernelspec": {
   "display_name": "env",
   "language": "python",
   "name": "python3"
  },
  "language_info": {
   "codemirror_mode": {
    "name": "ipython",
    "version": 3
   },
   "file_extension": ".py",
   "mimetype": "text/x-python",
   "name": "python",
   "nbconvert_exporter": "python",
   "pygments_lexer": "ipython3",
   "version": "3.11.6"
  }
 },
 "nbformat": 4,
 "nbformat_minor": 5
}
